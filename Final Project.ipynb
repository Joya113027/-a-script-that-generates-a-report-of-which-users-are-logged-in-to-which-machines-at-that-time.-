{
 "cells": [
  {
   "cell_type": "code",
   "execution_count": 1,
   "id": "ccfa7081",
   "metadata": {},
   "outputs": [],
   "source": [
    "def get_event_date(event):\n",
    "    return event.date\n",
    "def current_users(events):\n",
    "    events.sort(key=get_event_date)\n",
    "    machines={}\n",
    "    for event in events:\n",
    "        if event.machine not in machines:\n",
    "            machines[event.machine]=set()    \n",
    "        if event.type==\"login\":\n",
    "            machines[event.machine].add(event.user)\n",
    "        elif event.type==\"logout\":\n",
    "             machines[event.machine].remove(event.user)\n",
    "    return machines\n",
    "def generate_report(machines):\n",
    "    for machines, users in machine.items():\n",
    "        if len(users)>0:\n",
    "            user_list=\",\".join(users)\n",
    "            print(\"{}: {}\".format(machine,user_list))"
   ]
  },
  {
   "cell_type": "code",
   "execution_count": 2,
   "id": "4169dbe9",
   "metadata": {},
   "outputs": [],
   "source": [
    "class Event:\n",
    "    def __init__(self,event_date,event_type,machine_name,user):\n",
    "        self.date=event_date\n",
    "        self.type=event_type\n",
    "        self.machine=machine_name\n",
    "        self.user=user"
   ]
  },
  {
   "cell_type": "code",
   "execution_count": 3,
   "id": "2b58df7f",
   "metadata": {},
   "outputs": [],
   "source": [
    "events= [\n",
    "    Event('2020-01-21 12:45:56', 'login','Myworkstation.local','Joya'),\n",
    "    Event('2020-01-22 12:45:59', 'login','Cafe70','lane'),\n",
    "    Event('2020-01-23 11:45:56', 'logout','Myworkstation.local','Joya'),\n",
    "    Event('2020-01-25 09:45:56', 'login','Myworkstation.local','Swakshar')\n",
    "]"
   ]
  },
  {
   "cell_type": "code",
   "execution_count": 4,
   "id": "b374d2b6",
   "metadata": {},
   "outputs": [
    {
     "name": "stdout",
     "output_type": "stream",
     "text": [
      "{'Myworkstation.local': {'Swakshar'}, 'Cafe70': {'lane'}}\n"
     ]
    }
   ],
   "source": [
    "users=current_users(events)\n",
    "print(users)"
   ]
  },
  {
   "cell_type": "code",
   "execution_count": null,
   "id": "4c97fef6",
   "metadata": {},
   "outputs": [],
   "source": []
  }
 ],
 "metadata": {
  "kernelspec": {
   "display_name": "Python 3 (ipykernel)",
   "language": "python",
   "name": "python3"
  },
  "language_info": {
   "codemirror_mode": {
    "name": "ipython",
    "version": 3
   },
   "file_extension": ".py",
   "mimetype": "text/x-python",
   "name": "python",
   "nbconvert_exporter": "python",
   "pygments_lexer": "ipython3",
   "version": "3.11.1"
  }
 },
 "nbformat": 4,
 "nbformat_minor": 5
}
